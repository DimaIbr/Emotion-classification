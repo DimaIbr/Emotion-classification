{
  "nbformat": 4,
  "nbformat_minor": 0,
  "metadata": {
    "colab": {
      "provenance": [],
      "gpuType": "T4"
    },
    "kernelspec": {
      "name": "python3",
      "display_name": "Python 3"
    },
    "language_info": {
      "name": "python"
    },
    "accelerator": "GPU"
  },
  "cells": [
    {
      "cell_type": "markdown",
      "source": [
        "Эмоции\n",
        "01 = neutral, 02 = calm, 03 = happy, 04 = sad, 05 = angry, 06 = fearful, 07 = disgust, 08 = surprised\n",
        "\n"
      ],
      "metadata": {
        "id": "O3d2i70sMrSV"
      }
    },
    {
      "cell_type": "code",
      "execution_count": 1,
      "metadata": {
        "colab": {
          "base_uri": "https://localhost:8080/"
        },
        "id": "M7D26nZKhlZV",
        "outputId": "db6f1320-ae7c-4740-f13b-7c216923652c"
      },
      "outputs": [
        {
          "output_type": "stream",
          "name": "stdout",
          "text": [
            "Mounted at /content/drive\n"
          ]
        }
      ],
      "source": [
        "#!pip install librosa\n",
        "import os\n",
        "import librosa\n",
        "import pandas as pd\n",
        "import numpy as np\n",
        "import matplotlib.pyplot as plt\n",
        "import pathlib\n",
        "\n",
        "import pylab as pl\n",
        "import scipy\n",
        "import scipy.optimize as opt\n",
        "from sklearn import preprocessing\n",
        "from sklearn import svm\n",
        "from sklearn import metrics\n",
        "from sklearn.model_selection import train_test_split\n",
        "\n",
        "import csv\n",
        "\n",
        "import tensorflow\n",
        "\n",
        "from google.colab import drive\n",
        "drive.mount('/content/drive')"
      ]
    },
    {
      "cell_type": "code",
      "source": [
        "path=input()\n"
      ],
      "metadata": {
        "colab": {
          "base_uri": "https://localhost:8080/"
        },
        "id": "tZVn7NH8z9I7",
        "outputId": "3ab4154a-9a6a-4e12-d43b-185a01b598ad"
      },
      "execution_count": 2,
      "outputs": [
        {
          "name": "stdout",
          "output_type": "stream",
          "text": [
            "/content/drive/MyDrive/audiodataset/Actor_\n"
          ]
        }
      ]
    },
    {
      "cell_type": "markdown",
      "source": [
        "/content/drive/MyDrive/audiodataset/Actor_"
      ],
      "metadata": {
        "id": "ZBJhAtVo1MBU"
      }
    },
    {
      "cell_type": "code",
      "source": [
        "#Считываем датасет\n",
        "audiodata=[]\n",
        "audiodataclass=[]\n",
        "for i in range(24):\n",
        "  pathdir=path\n",
        "  if i<9:\n",
        "    pathdir+='0'\n",
        "  for j in os.listdir(pathdir+str(i+1)):\n",
        "    audiodata.append(librosa.load(pathdir+str(i+1)+'/'+j))\n",
        "    audiodataclass.append(j.split(sep='-')[2])"
      ],
      "metadata": {
        "id": "C8FpHMFd0m1O"
      },
      "execution_count": null,
      "outputs": []
    },
    {
      "cell_type": "code",
      "source": [
        "#Собираем фичи\n",
        "def extract_features(y,sr):\n",
        "    features = []\n",
        "    #MFCC — это матрица значений, которая захватывает тембральные аспекты.\n",
        "    features.extend([np.mean(e) for e in librosa.feature.mfcc(y=y, sr=sr, n_mfcc=20)])  # mfcc_mean<0..20> средние значения (по 20 значений) из Мел-кепстральных коэффициентов;\n",
        "    features.extend([np.std(e) for e in librosa.feature.mfcc(y=y, sr=sr, n_mfcc=20)])   # mfcc_std стандартные отклонения  (по 20 значений) из Мел-кепстральных коэффициентов;\n",
        "    # Спектральный центроид - это мера, используемая в цифровой обработке сигналов для характеристики спектр .\n",
        "    # Он указывает, где расположен центр масс спектра. В восприятии он имеет прочную связь с впечатлением яркости звука.\n",
        "    features.append(np.mean(librosa.feature.spectral_centroid(y=y, sr=sr).T, axis = 0)[0])     # cent_mean среднее значение из Спектрального центроида;\n",
        "    features.append(np.std(librosa.feature.spectral_centroid(y=y,sr=sr).T,axis = 0)[0])       # cent_std стандартное отклонение из Спектрального центроида;\n",
        "    features.append(scipy.stats.skew(librosa.feature.spectral_centroid(y=y,sr=sr).T, axis = 0)[0])    # cent_skew наклон из Спектрального центроида;\n",
        "    features.append(np.mean(librosa.feature.spectral_rolloff(y=y, sr=sr).T, axis = 0)[0])      # rolloff_mean реднее значение из Спектрального спада;\n",
        "    features.append(np.std(librosa.feature.spectral_rolloff(y=y, sr=sr).T, axis = 0)[0])       # rolloff_std стандартное отклонение из Спектрального спада;\n",
        "    return features"
      ],
      "metadata": {
        "id": "hdrofAM_JDEw"
      },
      "execution_count": 5,
      "outputs": []
    },
    {
      "cell_type": "code",
      "source": [
        "#Собираем фичи для каждого\n",
        "audiodatafitures=[]\n",
        "for i in range(len(audiodata)):\n",
        "  audiodatafitures.append(extract_features(audiodata[i][0], audiodata[i][1]))"
      ],
      "metadata": {
        "id": "Fyx7PVUbvd_u"
      },
      "execution_count": 8,
      "outputs": []
    },
    {
      "cell_type": "code",
      "source": [
        "#дополнительно в файл\n",
        "audiodatafitures=[]\n",
        "with open('audiodata.csv', 'w', newline='') as file:\n",
        "  writer = csv.writer(file, delimiter=',')\n",
        "  writer.writerow(['data','output'])\n",
        "  for i in range(len(audiodata)):\n",
        "    audiodatafitures.append(extract_features(audiodata[i][0], audiodata[i][1]))\n",
        "    writer.writerows([audiodatafitures[i],str(int(audiodataclass[i]))])"
      ],
      "metadata": {
        "colab": {
          "base_uri": "https://localhost:8080/"
        },
        "id": "nbWwLZFo8KB-",
        "outputId": "24682fb1-55b4-4cc8-97d9-0aabb772dd0d"
      },
      "execution_count": 7,
      "outputs": [
        {
          "output_type": "stream",
          "name": "stderr",
          "text": [
            "\n",
            "KeyboardInterrupt\n",
            "\n"
          ]
        }
      ]
    },
    {
      "cell_type": "code",
      "source": [
        "#если датасет уже есть\n",
        "audiodataclass=[]\n",
        "audiodatafitures=[]\n",
        "with open('audiodata.csv', 'r', newline='') as csvfile:\n",
        "  audioreader = csv.reader(csvfile, delimiter=',', quotechar='|')\n",
        "  counter=0\n",
        "  for row in audioreader:\n",
        "    if counter!=0:\n",
        "      if counter%2==1:\n",
        "        audiodatafitures.append([float(i) for i in row])\n",
        "      else:\n",
        "        audiodataclass.append(int(row[0]))\n",
        "    counter+=1"
      ],
      "metadata": {
        "id": "m_WoWzNT4XqI"
      },
      "execution_count": 138,
      "outputs": []
    },
    {
      "cell_type": "code",
      "source": [
        "#Если есть выбросы\n",
        "X=preprocessing.StandardScaler().fit(audiodatafitures).transform(audiodatafitures)"
      ],
      "metadata": {
        "id": "BxWPq4gJs9zz"
      },
      "execution_count": 139,
      "outputs": []
    },
    {
      "cell_type": "code",
      "source": [
        "#Разбиваем выборку\n",
        "x_train, x_test, y_train, y_test = train_test_split(X, audiodataclass, test_size=0.2, random_state=10)"
      ],
      "metadata": {
        "id": "FodveZHza1Nl"
      },
      "execution_count": 140,
      "outputs": []
    },
    {
      "cell_type": "code",
      "source": [
        "#Метод опорных векторов\n",
        "clf = svm.SVC(kernel='rbf', gamma='auto', C=5)\n",
        "clf.fit(x_train, y_train)\n",
        "yhat = clf.predict(x_test)\n",
        "print(\"Train set Accuracy: \", metrics.accuracy_score(y_train, clf.predict(x_train)))\n",
        "print(\"Test set Accuracy: \",metrics.accuracy_score(y_test, yhat) )"
      ],
      "metadata": {
        "colab": {
          "base_uri": "https://localhost:8080/"
        },
        "id": "1xVYIXJ3t96U",
        "outputId": "d11b791e-fece-4a00-c9d5-698977aa8435"
      },
      "execution_count": 142,
      "outputs": [
        {
          "output_type": "stream",
          "name": "stdout",
          "text": [
            "Train set Accuracy:  0.9921875\n",
            "Test set Accuracy:  0.7291666666666666\n"
          ]
        }
      ]
    },
    {
      "cell_type": "markdown",
      "source": [
        "Train set Accuracy:  0.9992283950617284\n",
        "\n",
        "Test set Accuracy:  0.7916666666666666\n",
        "\n",
        "kernel='rbf', gamma='auto', C=10"
      ],
      "metadata": {
        "id": "Gf8JIGSgz8OS"
      }
    },
    {
      "cell_type": "markdown",
      "source": [
        "Train set Accuracy:  0.9953703703703703\n",
        "\n",
        "Test set Accuracy:  0.7291666666666666\n",
        "\n",
        "(kernel='poly', degree=3, C=10)"
      ],
      "metadata": {
        "id": "OXA8X4S2xj-c"
      }
    },
    {
      "cell_type": "code",
      "source": [
        "#Логистическая регрессия\n",
        "from sklearn.linear_model import LogisticRegression\n",
        "Log_model = LogisticRegression(multi_class='multinomial', solver='sag', C=5, class_weight='balanced')\n",
        "Log_model.fit(x_train, y_train)\n",
        "\n",
        "log_yhat = Log_model.predict(x_test)\n",
        "# summarize the predicted class\n",
        "print(\"Train set Accuracy: \", metrics.accuracy_score(y_train, Log_model.predict(x_train)))\n",
        "print(\"Test set Accuracy: \",metrics.accuracy_score(y_test, log_yhat))"
      ],
      "metadata": {
        "colab": {
          "base_uri": "https://localhost:8080/"
        },
        "id": "B9T8PDB3AZyB",
        "outputId": "1e83fb9a-2ff6-467c-81b9-ec3c7df5efec"
      },
      "execution_count": 143,
      "outputs": [
        {
          "output_type": "stream",
          "name": "stdout",
          "text": [
            "Train set Accuracy:  0.6640625\n",
            "Test set Accuracy:  0.5520833333333334\n"
          ]
        },
        {
          "output_type": "stream",
          "name": "stderr",
          "text": [
            "/usr/local/lib/python3.10/dist-packages/sklearn/linear_model/_sag.py:350: ConvergenceWarning: The max_iter was reached which means the coef_ did not converge\n",
            "  warnings.warn(\n"
          ]
        }
      ]
    },
    {
      "cell_type": "markdown",
      "source": [
        "Train set Accuracy:  0.6640625\n",
        "\n",
        "Test set Accuracy:  0.5520833333333334"
      ],
      "metadata": {
        "id": "Q-syNNBsOXGk"
      }
    },
    {
      "cell_type": "code",
      "source": [
        "#CatBoost\n",
        "#!pip install catboost\n",
        "from catboost import CatBoostClassifier\n",
        "\n",
        "Cat_model = CatBoostClassifier(\n",
        "    iterations=500, depth=4, learning_rate=0.1,\n",
        "   loss_function='MultiClass', verbose=False)\n",
        "\n",
        "Cat_model.fit(x_train, y_train)\n",
        "Cat_yhat=Cat_model.predict(x_test)\n",
        "# summarize the predicted class\n",
        "print(\"Train set Accuracy: \", metrics.accuracy_score(y_train, Cat_model.predict(x_train)))\n",
        "print(\"Test set Accuracy: \",metrics.accuracy_score(y_test, Cat_yhat))"
      ],
      "metadata": {
        "colab": {
          "base_uri": "https://localhost:8080/"
        },
        "id": "dt1KgBkMGJW1",
        "outputId": "7403348c-6285-4fd8-854c-460f1147c776"
      },
      "execution_count": 144,
      "outputs": [
        {
          "output_type": "stream",
          "name": "stdout",
          "text": [
            "Train set Accuracy:  0.9947916666666666\n",
            "Test set Accuracy:  0.6180555555555556\n"
          ]
        }
      ]
    },
    {
      "cell_type": "markdown",
      "source": [
        "Train set Accuracy:  0.9891975308641975\n",
        "\n",
        "Test set Accuracy:  0.6597222222222222\n"
      ],
      "metadata": {
        "id": "lu3Es9s3OZLC"
      }
    },
    {
      "cell_type": "code",
      "source": [
        "#Метод ближайших соседей\n",
        "from sklearn.neighbors import KNeighborsClassifier\n",
        "\n",
        "knn = KNeighborsClassifier(n_neighbors = 4, leaf_size=30, p=1).fit(x_train, y_train)\n",
        "knn_yhat = knn.predict(x_test)\n",
        "print(\"Train set Accuracy: \", metrics.accuracy_score(y_train, knn.predict(x_train)))\n",
        "print(\"Test set Accuracy: \",metrics.accuracy_score(y_test, knn_yhat))"
      ],
      "metadata": {
        "colab": {
          "base_uri": "https://localhost:8080/"
        },
        "id": "5GeLFAJXIytE",
        "outputId": "345186f1-5204-452c-c2e5-d0a1d2552639"
      },
      "execution_count": 145,
      "outputs": [
        {
          "output_type": "stream",
          "name": "stdout",
          "text": [
            "Train set Accuracy:  0.8064236111111112\n",
            "Test set Accuracy:  0.6145833333333334\n"
          ]
        }
      ]
    },
    {
      "cell_type": "markdown",
      "source": [
        "\n",
        "Train set Accuracy:  0.8310185185185185\n",
        "\n",
        "Test set Accuracy:  0.5902777777777778\n",
        "\n"
      ],
      "metadata": {
        "id": "RQWxf_hbOcCE"
      }
    },
    {
      "cell_type": "code",
      "source": [
        "#Решающие деревья\n",
        "from sklearn.tree import DecisionTreeClassifier\n",
        "\n",
        "dtree_model = DecisionTreeClassifier(max_depth = 10, criterion='log_loss').fit(x_train, y_train)\n",
        "dtree_yhat = dtree_model.predict(x_test)\n",
        "print(\"Train set Accuracy: \", metrics.accuracy_score(y_train, dtree_model.predict(x_train)))\n",
        "print(\"Test set Accuracy: \",metrics.accuracy_score(y_test, dtree_yhat))"
      ],
      "metadata": {
        "colab": {
          "base_uri": "https://localhost:8080/"
        },
        "id": "_bRtI9ppM7ao",
        "outputId": "4593bdc8-f0e9-4212-a780-065e5b45ea0b"
      },
      "execution_count": 147,
      "outputs": [
        {
          "output_type": "stream",
          "name": "stdout",
          "text": [
            "Train set Accuracy:  0.953125\n",
            "Test set Accuracy:  0.3993055555555556\n"
          ]
        }
      ]
    },
    {
      "cell_type": "markdown",
      "source": [
        "Train set Accuracy:  0.9876543209876543\n",
        "\n",
        "Test set Accuracy:  0.4236111111111111"
      ],
      "metadata": {
        "id": "nKn7OgGVOh2V"
      }
    },
    {
      "cell_type": "code",
      "source": [
        "#Байес\n",
        "from sklearn.naive_bayes import GaussianNB\n",
        "\n",
        "gnb = GaussianNB().fit(x_train, y_train)\n",
        "gnb_yhat = gnb.predict(x_test)\n",
        "print(\"Train set Accuracy: \", metrics.accuracy_score(y_train, gnb.predict(x_train)))\n",
        "print(\"Test set Accuracy: \",metrics.accuracy_score(y_test, gnb_yhat))"
      ],
      "metadata": {
        "colab": {
          "base_uri": "https://localhost:8080/"
        },
        "id": "BpMr_4NHGjXJ",
        "outputId": "fb6bbb37-bd66-4951-a73a-29a1315b2436"
      },
      "execution_count": 148,
      "outputs": [
        {
          "output_type": "stream",
          "name": "stdout",
          "text": [
            "Train set Accuracy:  0.4053819444444444\n",
            "Test set Accuracy:  0.3819444444444444\n"
          ]
        }
      ]
    },
    {
      "cell_type": "markdown",
      "source": [
        "Лучше всего подошёл метод опорных векторов из предствленных в sklearn"
      ],
      "metadata": {
        "id": "Y_H5DQ0kMgE_"
      }
    }
  ]
}